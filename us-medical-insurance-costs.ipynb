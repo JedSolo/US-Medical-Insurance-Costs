{
 "cells": [
  {
   "cell_type": "markdown",
   "metadata": {},
   "source": [
    "# U.S. Medical Insurance Costs"
   ]
  },
  {
   "cell_type": "code",
   "execution_count": 3,
   "metadata": {},
   "outputs": [],
   "source": [
    "import csv\n",
    "\n",
    "with open('insurance.csv') as insurance_csv:\n",
    "    insurance_data = insurance_csv.read()\n",
    "    \n",
    "#print(insurance_data)\n",
    "    "
   ]
  },
  {
   "cell_type": "code",
   "execution_count": 4,
   "metadata": {},
   "outputs": [],
   "source": [
    "# Import \"insurance.csv\" into the python environment\n",
    "with open('insurance.csv') as insurance_csv:\n",
    "    insurance_data = csv.DictReader(insurance_csv)\n",
    "    insurance_data_list = []\n",
    "    insurance_data_age_list = []\n",
    "    for row in insurance_data:\n",
    "        insurance_data_list.append(row)\n",
    "        insurance_data_age_list.append(int(row[\"age\"]))\n",
    "        \n",
    "#print(insurance_data_age_list)"
   ]
  },
  {
   "cell_type": "code",
   "execution_count": 5,
   "metadata": {},
   "outputs": [
    {
     "name": "stdout",
     "output_type": "stream",
     "text": [
      "The average age of all patients in this insurance dataset is 39.\n"
     ]
    }
   ],
   "source": [
    "class Analysis:\n",
    " \n",
    "    def __init__(self, dataset):\n",
    "        self.dataset = dataset\n",
    "        \n",
    "# This method calculate the average age of patients in the dataset   \n",
    "    def average_age(self):\n",
    "        total_age = 0\n",
    "        for data in self.dataset:\n",
    "            total_age += data\n",
    "        \n",
    "        average = total_age/len(self.dataset)\n",
    "        return \"The average age of all patients in this insurance dataset is {}.\".format(round(average))\n",
    "        \n",
    "average_age_obj = Analysis(insurance_data_age_list)\n",
    "print(average_age_obj.average_age())       "
   ]
  },
  {
   "cell_type": "code",
   "execution_count": null,
   "metadata": {},
   "outputs": [],
   "source": []
  }
 ],
 "metadata": {
  "kernelspec": {
   "display_name": "Python 3",
   "language": "python",
   "name": "python3"
  },
  "language_info": {
   "codemirror_mode": {
    "name": "ipython",
    "version": 3
   },
   "file_extension": ".py",
   "mimetype": "text/x-python",
   "name": "python",
   "nbconvert_exporter": "python",
   "pygments_lexer": "ipython3",
   "version": "3.9.1"
  }
 },
 "nbformat": 4,
 "nbformat_minor": 4
}
