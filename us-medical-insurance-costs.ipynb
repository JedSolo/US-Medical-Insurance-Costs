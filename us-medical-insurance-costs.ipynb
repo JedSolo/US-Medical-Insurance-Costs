{
 "cells": [
  {
   "cell_type": "markdown",
   "metadata": {},
   "source": [
    "# U.S. Medical Insurance Costs"
   ]
  },
  {
   "cell_type": "code",
   "execution_count": 20,
   "metadata": {},
   "outputs": [],
   "source": [
    "import csv\n",
    "\n",
    "with open('insurance.csv') as insurance_csv:\n",
    "    insurance_data = insurance_csv.read()\n",
    "    \n",
    "#print(insurance_data)\n",
    "    "
   ]
  },
  {
   "cell_type": "code",
   "execution_count": 37,
   "metadata": {},
   "outputs": [],
   "source": [
    "# Importing \"insurance.csv\" into the python environment\n",
    "with open('insurance.csv') as insurance_csv:\n",
    "    insurance_data = csv.DictReader(insurance_csv)\n",
    "    insurance_data_list = []\n",
    "    insurance_data_age_list = []\n",
    "    insurance_data_region_list = [] \n",
    "    for row in insurance_data:\n",
    "        insurance_data_list.append(row)\n",
    "        insurance_data_age_list.append(int(row[\"age\"]))\n",
    "        insurance_data_region_list.append(row[\"region\"])\n",
    "        \n",
    "        \n",
    "#print(insurance_data_list)"
   ]
  },
  {
   "cell_type": "code",
   "execution_count": 49,
   "metadata": {},
   "outputs": [],
   "source": [
    "class Analysis:\n",
    " \n",
    "    def __init__(self, dataset):\n",
    "        self.dataset = dataset\n",
    "        \n",
    "# This method calculate the average age of patients in the dataset.   \n",
    "    def average_age(self):\n",
    "        total_age = 0\n",
    "        for data in self.dataset:\n",
    "            total_age += data\n",
    "        \n",
    "        average = total_age/len(self.dataset)\n",
    "        return \"The average age of all patients in this insurance dataset is {}.\".format(round(average))\n",
    "\n",
    "# This method finds where the majority of patients are located.\n",
    "    def majority(self):\n",
    "        regions = []\n",
    "        regions_count = []\n",
    "        for data in self.dataset:\n",
    "            if data not in regions:\n",
    "                regions.append(data)\n",
    "                \n",
    "        for region in regions:\n",
    "            print(\"{} patients belong to the {} region.\".format(self.dataset.count(region), region))\n",
    "            regions_count.append(self.dataset.count(region))      \n",
    "            \n",
    "            # Finding the region with the maximum patients:\n",
    "            if  self.dataset.count(region) == max(regions_count):\n",
    "                max_region = region\n",
    "                \n",
    "            # Finding the region with the minimum patients:\n",
    "            if  self.dataset.count(region) == min(regions_count):\n",
    "                min_region = region\n",
    "        \n",
    "        \n",
    "        print(\"\\nThe \" + max_region + \" has the highest number of patients\\n\")\n",
    "        print(\"The \" + min_region + \" has the lowest number of patients\\n\")\n",
    "\n",
    "# This method shows which region has the highest number of a particular gender.\n",
    "    def gender_majority(self):\n",
    "        regions_gender_dict = {}\n",
    "        male_count = []\n",
    "        female_count = []\n",
    "        for row in self.dataset:\n",
    "            current_region = row[\"region\"]\n",
    "            current_gender = row[\"sex\"]\n",
    "            if current_region not in regions_gender_dict:\n",
    "                regions_gender_dict[current_region] = [current_gender]\n",
    "            else:\n",
    "                regions_gender_dict[current_region].append(current_gender)\n",
    "\n",
    "        #print(regions_gender_dict)\n",
    "        \n",
    "        for key, value in regions_gender_dict.items():\n",
    "            print(\"The are {} males in the {} region\".format(value.count(\"male\"), key))\n",
    "            print(\"The are {} females in the {} region\".format(value.count(\"female\"), key))\n",
    "            male_count.append(value.count(\"male\"))\n",
    "            female_count.append(value.count(\"female\"))\n",
    "            \n",
    "            # Finding the region with the maximum males and females:\n",
    "            if value.count(\"male\") == max(male_count):\n",
    "                max_male_region = key\n",
    "                \n",
    "            if value.count(\"female\") == max(female_count):\n",
    "                max_female_region = key\n",
    "            \n",
    "            # Find the region with the minimum males and females:\n",
    "            if value.count(\"male\") == min(male_count):\n",
    "                min_male_region = key\n",
    "                \n",
    "            if value.count(\"female\") == min(female_count):\n",
    "                min_female_region = key\n",
    "                \n",
    "        print(\"\\nThe \" + max_male_region + \" region has the maximum number of male patients\")\n",
    "        print(\"The \" + max_female_region + \" region has the maximum number of female patients\")\n",
    "        print(\"The \" + min_male_region + \" region has the minimum number of male patients\")\n",
    "        print(\"The \" + min_female_region + \" region has the minimum number of female patients\")\n",
    "        "
   ]
  },
  {
   "cell_type": "code",
   "execution_count": 48,
   "metadata": {},
   "outputs": [
    {
     "name": "stdout",
     "output_type": "stream",
     "text": [
      "The average age of all patients in this insurance dataset is 39. \n",
      "\n",
      "325 patients belong to the southwest region.\n",
      "364 patients belong to the southeast region.\n",
      "325 patients belong to the northwest region.\n",
      "324 patients belong to the northeast region.\n",
      "\n",
      "The southeast has the highest number of patients\n",
      "\n",
      "The northeast has the lowest number of patients\n",
      "\n",
      "The are 163 males in the southwest region\n",
      "The are 162 females in the southwest region\n",
      "The are 189 males in the southeast region\n",
      "The are 175 females in the southeast region\n",
      "The are 161 males in the northwest region\n",
      "The are 164 females in the northwest region\n",
      "The are 163 males in the northeast region\n",
      "The are 161 females in the northeast region\n",
      "\n",
      "The southeast region has the maximum number of male patients\n",
      "The southeast region has the maximum number of female patients\n",
      "The northwest region has the minimum number of male patients\n",
      "The northeast region has the minimum number of female patients\n"
     ]
    }
   ],
   "source": [
    "average_age_obj = Analysis(insurance_data_age_list)\n",
    "print(average_age_obj.average_age(),\"\\n\")\n",
    "\n",
    "majority_obj = Analysis(insurance_data_region_list)\n",
    "majority_obj.majority()\n",
    "\n",
    "gender_majority_obj = Analysis(insurance_data_list)\n",
    "gender_majority_obj.gender_majority()"
   ]
  },
  {
   "cell_type": "code",
   "execution_count": null,
   "metadata": {},
   "outputs": [],
   "source": []
  }
 ],
 "metadata": {
  "kernelspec": {
   "display_name": "Python 3",
   "language": "python",
   "name": "python3"
  },
  "language_info": {
   "codemirror_mode": {
    "name": "ipython",
    "version": 3
   },
   "file_extension": ".py",
   "mimetype": "text/x-python",
   "name": "python",
   "nbconvert_exporter": "python",
   "pygments_lexer": "ipython3",
   "version": "3.9.1"
  }
 },
 "nbformat": 4,
 "nbformat_minor": 4
}
